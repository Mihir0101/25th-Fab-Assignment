{
 "cells": [
  {
   "cell_type": "code",
   "execution_count": 1,
   "id": "eece3e0e-1441-40d2-9160-13d4f4b3622a",
   "metadata": {},
   "outputs": [],
   "source": [
    "import pandas as pd\n",
    "course_name = ['Data Science', 'Machine Learning', 'Big Data', 'Data Engineer']\n",
    "duration = [2,3,6,4]\n",
    "df = pd.DataFrame(data = {'course_name' : course_name, 'duration' : duration})"
   ]
  },
  {
   "cell_type": "code",
   "execution_count": 2,
   "id": "e64d310f-6e49-4e3e-982f-8dc1b41399f6",
   "metadata": {},
   "outputs": [
    {
     "data": {
      "text/html": [
       "<div>\n",
       "<style scoped>\n",
       "    .dataframe tbody tr th:only-of-type {\n",
       "        vertical-align: middle;\n",
       "    }\n",
       "\n",
       "    .dataframe tbody tr th {\n",
       "        vertical-align: top;\n",
       "    }\n",
       "\n",
       "    .dataframe thead th {\n",
       "        text-align: right;\n",
       "    }\n",
       "</style>\n",
       "<table border=\"1\" class=\"dataframe\">\n",
       "  <thead>\n",
       "    <tr style=\"text-align: right;\">\n",
       "      <th></th>\n",
       "      <th>course_name</th>\n",
       "      <th>duration</th>\n",
       "    </tr>\n",
       "  </thead>\n",
       "  <tbody>\n",
       "    <tr>\n",
       "      <th>0</th>\n",
       "      <td>Data Science</td>\n",
       "      <td>2</td>\n",
       "    </tr>\n",
       "    <tr>\n",
       "      <th>1</th>\n",
       "      <td>Machine Learning</td>\n",
       "      <td>3</td>\n",
       "    </tr>\n",
       "    <tr>\n",
       "      <th>2</th>\n",
       "      <td>Big Data</td>\n",
       "      <td>6</td>\n",
       "    </tr>\n",
       "    <tr>\n",
       "      <th>3</th>\n",
       "      <td>Data Engineer</td>\n",
       "      <td>4</td>\n",
       "    </tr>\n",
       "  </tbody>\n",
       "</table>\n",
       "</div>"
      ],
      "text/plain": [
       "        course_name  duration\n",
       "0      Data Science         2\n",
       "1  Machine Learning         3\n",
       "2          Big Data         6\n",
       "3     Data Engineer         4"
      ]
     },
     "execution_count": 2,
     "metadata": {},
     "output_type": "execute_result"
    }
   ],
   "source": [
    "df"
   ]
  },
  {
   "cell_type": "code",
   "execution_count": null,
   "id": "2b0c0dc6-4e71-4c6f-9a77-94dc3cdd8549",
   "metadata": {},
   "outputs": [],
   "source": []
  },
  {
   "cell_type": "markdown",
   "id": "374bf576-497f-481f-8245-33c68bcfcf86",
   "metadata": {},
   "source": [
    "Q1. Write a code to print the data present in the second row of the dataframe, df."
   ]
  },
  {
   "cell_type": "code",
   "execution_count": 3,
   "id": "f7534afe-fdd2-4354-9db4-2f12dbe6b64d",
   "metadata": {},
   "outputs": [
    {
     "data": {
      "text/html": [
       "<div>\n",
       "<style scoped>\n",
       "    .dataframe tbody tr th:only-of-type {\n",
       "        vertical-align: middle;\n",
       "    }\n",
       "\n",
       "    .dataframe tbody tr th {\n",
       "        vertical-align: top;\n",
       "    }\n",
       "\n",
       "    .dataframe thead th {\n",
       "        text-align: right;\n",
       "    }\n",
       "</style>\n",
       "<table border=\"1\" class=\"dataframe\">\n",
       "  <thead>\n",
       "    <tr style=\"text-align: right;\">\n",
       "      <th></th>\n",
       "      <th>course_name</th>\n",
       "      <th>duration</th>\n",
       "    </tr>\n",
       "  </thead>\n",
       "  <tbody>\n",
       "    <tr>\n",
       "      <th>1</th>\n",
       "      <td>Machine Learning</td>\n",
       "      <td>3</td>\n",
       "    </tr>\n",
       "  </tbody>\n",
       "</table>\n",
       "</div>"
      ],
      "text/plain": [
       "        course_name  duration\n",
       "1  Machine Learning         3"
      ]
     },
     "execution_count": 3,
     "metadata": {},
     "output_type": "execute_result"
    }
   ],
   "source": [
    "df.iloc[[1]]"
   ]
  },
  {
   "cell_type": "code",
   "execution_count": null,
   "id": "eeef76f0-f7aa-4429-8b6f-84b167298891",
   "metadata": {},
   "outputs": [],
   "source": []
  },
  {
   "cell_type": "code",
   "execution_count": null,
   "id": "860180a6-7648-466e-b1cb-73f3edb1de00",
   "metadata": {},
   "outputs": [],
   "source": []
  },
  {
   "cell_type": "code",
   "execution_count": null,
   "id": "015a76a0-9966-4cf4-9254-36d8ceab1968",
   "metadata": {},
   "outputs": [],
   "source": []
  },
  {
   "cell_type": "markdown",
   "id": "53637390-ea3d-44f5-bb18-98178b7d7602",
   "metadata": {},
   "source": [
    "Q2. What is the difference between the functions loc and iloc in pandas.DataFrame?"
   ]
  },
  {
   "cell_type": "markdown",
   "id": "c1f5ebf9-e619-4a8f-b459-0b01f3eb24ba",
   "metadata": {},
   "source": [
    "-->According to me there is only one difference between \" loc \" and \" iloc \".\n",
    "\n",
    "--> With the help of 'loc' funtion we can extract the data from dataframe.In this function we have to choose row           index and coulmn name.\n",
    "    For Example : df.loc[0,1['course_name','duration']]\n",
    "    \n",
    "--> On other side the purpose of using 'iloc' is same,but we have to select the data using indexing of both               rows & columns.\n",
    "    For Example : df.iloc[0,1[0,1,2]]"
   ]
  },
  {
   "cell_type": "code",
   "execution_count": null,
   "id": "f1291314-3182-4c18-a7e9-ec5e4c04b689",
   "metadata": {},
   "outputs": [],
   "source": []
  },
  {
   "cell_type": "code",
   "execution_count": null,
   "id": "575060da-ba0a-4f6d-b1d4-053e6c2078e5",
   "metadata": {},
   "outputs": [],
   "source": []
  },
  {
   "cell_type": "code",
   "execution_count": null,
   "id": "9a88d97e-1f9f-4abb-8f6f-dbd22670042e",
   "metadata": {},
   "outputs": [],
   "source": []
  },
  {
   "cell_type": "markdown",
   "id": "4e72b90e-087c-4e7b-81d9-70912fd9959f",
   "metadata": {},
   "source": [
    "Q3. Reindex the given dataframe using a variable, reindex = [3,0,1,2] and store it in the variable, new_df\n",
    "then find the output for both new_df.loc[2] and new_df.iloc[2]."
   ]
  },
  {
   "cell_type": "code",
   "execution_count": 4,
   "id": "d84f56f5-9be9-4862-a718-da6b4c9e084b",
   "metadata": {},
   "outputs": [],
   "source": [
    "new_df=df.reindex([3,0,1,2])"
   ]
  },
  {
   "cell_type": "code",
   "execution_count": 5,
   "id": "257ec70a-e740-4604-bbb5-7a6df6dbe04d",
   "metadata": {},
   "outputs": [
    {
     "data": {
      "text/html": [
       "<div>\n",
       "<style scoped>\n",
       "    .dataframe tbody tr th:only-of-type {\n",
       "        vertical-align: middle;\n",
       "    }\n",
       "\n",
       "    .dataframe tbody tr th {\n",
       "        vertical-align: top;\n",
       "    }\n",
       "\n",
       "    .dataframe thead th {\n",
       "        text-align: right;\n",
       "    }\n",
       "</style>\n",
       "<table border=\"1\" class=\"dataframe\">\n",
       "  <thead>\n",
       "    <tr style=\"text-align: right;\">\n",
       "      <th></th>\n",
       "      <th>course_name</th>\n",
       "      <th>duration</th>\n",
       "    </tr>\n",
       "  </thead>\n",
       "  <tbody>\n",
       "    <tr>\n",
       "      <th>3</th>\n",
       "      <td>Data Engineer</td>\n",
       "      <td>4</td>\n",
       "    </tr>\n",
       "    <tr>\n",
       "      <th>0</th>\n",
       "      <td>Data Science</td>\n",
       "      <td>2</td>\n",
       "    </tr>\n",
       "    <tr>\n",
       "      <th>1</th>\n",
       "      <td>Machine Learning</td>\n",
       "      <td>3</td>\n",
       "    </tr>\n",
       "    <tr>\n",
       "      <th>2</th>\n",
       "      <td>Big Data</td>\n",
       "      <td>6</td>\n",
       "    </tr>\n",
       "  </tbody>\n",
       "</table>\n",
       "</div>"
      ],
      "text/plain": [
       "        course_name  duration\n",
       "3     Data Engineer         4\n",
       "0      Data Science         2\n",
       "1  Machine Learning         3\n",
       "2          Big Data         6"
      ]
     },
     "execution_count": 5,
     "metadata": {},
     "output_type": "execute_result"
    }
   ],
   "source": [
    "new_df"
   ]
  },
  {
   "cell_type": "code",
   "execution_count": 6,
   "id": "63c0419a-ae94-4bb6-8daa-cb81773ae7db",
   "metadata": {},
   "outputs": [
    {
     "data": {
      "text/plain": [
       "course_name    Big Data\n",
       "duration              6\n",
       "Name: 2, dtype: object"
      ]
     },
     "execution_count": 6,
     "metadata": {},
     "output_type": "execute_result"
    }
   ],
   "source": [
    "new_df.loc[2]"
   ]
  },
  {
   "cell_type": "code",
   "execution_count": 7,
   "id": "946bf7f8-6083-4c97-b320-f3fa59be8cab",
   "metadata": {},
   "outputs": [
    {
     "data": {
      "text/plain": [
       "course_name    Machine Learning\n",
       "duration                      3\n",
       "Name: 1, dtype: object"
      ]
     },
     "execution_count": 7,
     "metadata": {},
     "output_type": "execute_result"
    }
   ],
   "source": [
    "new_df.iloc[2]"
   ]
  },
  {
   "cell_type": "code",
   "execution_count": null,
   "id": "2372ca02-2b80-4dd8-8d9b-0b0aedf35171",
   "metadata": {},
   "outputs": [],
   "source": []
  },
  {
   "cell_type": "code",
   "execution_count": null,
   "id": "1b1a0c07-3aa9-400e-98ec-0fe0580cde6b",
   "metadata": {},
   "outputs": [],
   "source": []
  },
  {
   "cell_type": "code",
   "execution_count": null,
   "id": "d8f51b41-4729-4f7b-b222-fea97536ba90",
   "metadata": {},
   "outputs": [],
   "source": []
  },
  {
   "cell_type": "code",
   "execution_count": 21,
   "id": "4c6bdf8b-bd56-447d-8eeb-6cba457f3ac6",
   "metadata": {},
   "outputs": [],
   "source": [
    "import pandas as pd\n",
    "import numpy as np\n",
    "columns = ['column_1', 'column_2', 'column_3', 'column_4', 'column_5', 'column_6']\n",
    "indices = [1,2,3,4,5,6]\n",
    "df1 = pd.DataFrame(np.random.rand(6,6), columns = columns, index = indices)"
   ]
  },
  {
   "cell_type": "code",
   "execution_count": 9,
   "id": "0db0f53e-aebc-44ce-b94f-87256b99d960",
   "metadata": {},
   "outputs": [
    {
     "data": {
      "text/html": [
       "<div>\n",
       "<style scoped>\n",
       "    .dataframe tbody tr th:only-of-type {\n",
       "        vertical-align: middle;\n",
       "    }\n",
       "\n",
       "    .dataframe tbody tr th {\n",
       "        vertical-align: top;\n",
       "    }\n",
       "\n",
       "    .dataframe thead th {\n",
       "        text-align: right;\n",
       "    }\n",
       "</style>\n",
       "<table border=\"1\" class=\"dataframe\">\n",
       "  <thead>\n",
       "    <tr style=\"text-align: right;\">\n",
       "      <th></th>\n",
       "      <th>column_1</th>\n",
       "      <th>column_2</th>\n",
       "      <th>column_3</th>\n",
       "      <th>column_4</th>\n",
       "      <th>column_5</th>\n",
       "      <th>column_6</th>\n",
       "    </tr>\n",
       "  </thead>\n",
       "  <tbody>\n",
       "    <tr>\n",
       "      <th>1</th>\n",
       "      <td>0.221674</td>\n",
       "      <td>0.739705</td>\n",
       "      <td>0.040203</td>\n",
       "      <td>0.509568</td>\n",
       "      <td>0.634540</td>\n",
       "      <td>0.828673</td>\n",
       "    </tr>\n",
       "    <tr>\n",
       "      <th>2</th>\n",
       "      <td>0.296799</td>\n",
       "      <td>0.193941</td>\n",
       "      <td>0.566353</td>\n",
       "      <td>0.882356</td>\n",
       "      <td>0.295549</td>\n",
       "      <td>0.267104</td>\n",
       "    </tr>\n",
       "    <tr>\n",
       "      <th>3</th>\n",
       "      <td>0.963174</td>\n",
       "      <td>0.596395</td>\n",
       "      <td>0.640080</td>\n",
       "      <td>0.268716</td>\n",
       "      <td>0.034381</td>\n",
       "      <td>0.262199</td>\n",
       "    </tr>\n",
       "    <tr>\n",
       "      <th>4</th>\n",
       "      <td>0.901401</td>\n",
       "      <td>0.076074</td>\n",
       "      <td>0.858097</td>\n",
       "      <td>0.926872</td>\n",
       "      <td>0.815904</td>\n",
       "      <td>0.187834</td>\n",
       "    </tr>\n",
       "    <tr>\n",
       "      <th>5</th>\n",
       "      <td>0.722348</td>\n",
       "      <td>0.117299</td>\n",
       "      <td>0.910016</td>\n",
       "      <td>0.579641</td>\n",
       "      <td>0.902826</td>\n",
       "      <td>0.584636</td>\n",
       "    </tr>\n",
       "    <tr>\n",
       "      <th>6</th>\n",
       "      <td>0.615116</td>\n",
       "      <td>0.113976</td>\n",
       "      <td>0.670419</td>\n",
       "      <td>0.002585</td>\n",
       "      <td>0.461247</td>\n",
       "      <td>0.418086</td>\n",
       "    </tr>\n",
       "  </tbody>\n",
       "</table>\n",
       "</div>"
      ],
      "text/plain": [
       "   column_1  column_2  column_3  column_4  column_5  column_6\n",
       "1  0.221674  0.739705  0.040203  0.509568  0.634540  0.828673\n",
       "2  0.296799  0.193941  0.566353  0.882356  0.295549  0.267104\n",
       "3  0.963174  0.596395  0.640080  0.268716  0.034381  0.262199\n",
       "4  0.901401  0.076074  0.858097  0.926872  0.815904  0.187834\n",
       "5  0.722348  0.117299  0.910016  0.579641  0.902826  0.584636\n",
       "6  0.615116  0.113976  0.670419  0.002585  0.461247  0.418086"
      ]
     },
     "execution_count": 9,
     "metadata": {},
     "output_type": "execute_result"
    }
   ],
   "source": [
    "df1"
   ]
  },
  {
   "cell_type": "code",
   "execution_count": null,
   "id": "2c6fd7df-1f77-48ea-b62e-0a50f475cf48",
   "metadata": {},
   "outputs": [],
   "source": []
  },
  {
   "cell_type": "markdown",
   "id": "e2e2ab18-4ad8-444a-8159-72f9005c877a",
   "metadata": {},
   "source": [
    "Q4. Write a code to find the following statistical measurements for the above dataframe df1:"
   ]
  },
  {
   "cell_type": "markdown",
   "id": "0038d95a-82f5-4c15-bf99-f90417d40245",
   "metadata": {},
   "source": [
    "(i) mean of each and every column present in the dataframe."
   ]
  },
  {
   "cell_type": "code",
   "execution_count": 10,
   "id": "dbcd372d-1dd9-4fe7-b445-092401686667",
   "metadata": {},
   "outputs": [
    {
     "data": {
      "text/plain": [
       "column_1    0.620085\n",
       "column_2    0.306232\n",
       "column_3    0.614195\n",
       "column_4    0.528290\n",
       "column_5    0.524074\n",
       "column_6    0.424755\n",
       "dtype: float64"
      ]
     },
     "execution_count": 10,
     "metadata": {},
     "output_type": "execute_result"
    }
   ],
   "source": [
    "df1.mean(axis=0)"
   ]
  },
  {
   "cell_type": "code",
   "execution_count": null,
   "id": "b50efb34-2319-42b0-af45-fcb56e494601",
   "metadata": {},
   "outputs": [],
   "source": []
  },
  {
   "cell_type": "markdown",
   "id": "f8039baf-23f7-49c9-85f0-af28ffac0ef0",
   "metadata": {},
   "source": [
    "(ii) standard deviation of column, ‘column_2’"
   ]
  },
  {
   "cell_type": "code",
   "execution_count": 11,
   "id": "e457a339-be1c-4619-a57f-e7cc9b95508b",
   "metadata": {},
   "outputs": [
    {
     "data": {
      "text/plain": [
       "0.2864730081331092"
      ]
     },
     "execution_count": 11,
     "metadata": {},
     "output_type": "execute_result"
    }
   ],
   "source": [
    "df1['column_2'].std()"
   ]
  },
  {
   "cell_type": "code",
   "execution_count": null,
   "id": "9a477fb0-ab73-45a4-91e2-90302f1a07ce",
   "metadata": {},
   "outputs": [],
   "source": []
  },
  {
   "cell_type": "code",
   "execution_count": null,
   "id": "575665cf-5ae8-43d5-ac69-d53fd2e0a495",
   "metadata": {},
   "outputs": [],
   "source": []
  },
  {
   "cell_type": "code",
   "execution_count": null,
   "id": "e137593a-ba76-4e00-9e58-13e372792bc2",
   "metadata": {},
   "outputs": [],
   "source": []
  },
  {
   "cell_type": "markdown",
   "id": "5193c773-1c8a-4c86-b779-7f09753ee032",
   "metadata": {},
   "source": [
    "Q5. Replace the data present in the second row of column, ‘column_2’ by a string variable then find the\n",
    "mean of column, column_2."
   ]
  },
  {
   "cell_type": "code",
   "execution_count": 12,
   "id": "0886c9ab-ba62-46f3-b94b-abd87fcce43c",
   "metadata": {},
   "outputs": [],
   "source": [
    "df1.loc[2, 'column_2'] = 'string value'"
   ]
  },
  {
   "cell_type": "code",
   "execution_count": 13,
   "id": "0b4e4c5d-5867-4cb3-b3c1-c6a1cb911c94",
   "metadata": {},
   "outputs": [
    {
     "data": {
      "text/plain": [
       "0.3286900009732602"
      ]
     },
     "execution_count": 13,
     "metadata": {},
     "output_type": "execute_result"
    }
   ],
   "source": [
    "pd.to_numeric(df1['column_2'], errors='coerce').mean()"
   ]
  },
  {
   "cell_type": "code",
   "execution_count": null,
   "id": "3deffd6e-54ca-44da-a711-e41324d4cf4d",
   "metadata": {},
   "outputs": [],
   "source": []
  },
  {
   "cell_type": "code",
   "execution_count": null,
   "id": "acbfe5fe-660d-442a-bea8-42cbad2106d7",
   "metadata": {},
   "outputs": [],
   "source": []
  },
  {
   "cell_type": "code",
   "execution_count": null,
   "id": "892ed122-55fd-41f9-90e1-711e35193929",
   "metadata": {},
   "outputs": [],
   "source": []
  },
  {
   "cell_type": "markdown",
   "id": "470254df-12df-4770-8bf3-90f88b798e24",
   "metadata": {},
   "source": [
    "Q6. What do you understand about the windows function in pandas and list the types of windows\n",
    "functions?"
   ]
  },
  {
   "cell_type": "markdown",
   "id": "488f1d8c-89ed-4989-840a-c269d7a9f39b",
   "metadata": {},
   "source": [
    "--> Widows function is used to perform calculation on the basis of row.\n",
    "\n",
    "--> It is a subset of rows inside a dataframe.\n",
    "\n",
    "--> According the value of window another function performs.\n",
    "    For example : df.rolling(window=2).mean()\n",
    "    In above example mean() function will take 2 row a set and perform its work on that.\n",
    "    \n",
    "\n",
    "* Type of windows function.\n",
    "\n",
    "(1) Rolling\n",
    "\n",
    "(2) Rolling_apply\n",
    "\n",
    "(3) Expanding\n",
    "\n",
    "(4) Expanding_apply\n",
    "\n",
    "(5) EWM "
   ]
  },
  {
   "cell_type": "code",
   "execution_count": null,
   "id": "06f55fff-0699-4661-9cb2-f4cef7d780d0",
   "metadata": {},
   "outputs": [],
   "source": []
  },
  {
   "cell_type": "code",
   "execution_count": null,
   "id": "6ae7792a-cbec-4170-805b-d41413c13f0e",
   "metadata": {},
   "outputs": [],
   "source": []
  },
  {
   "cell_type": "code",
   "execution_count": null,
   "id": "ea0c388b-c953-4c07-aba3-6fdf34620717",
   "metadata": {},
   "outputs": [],
   "source": []
  },
  {
   "cell_type": "markdown",
   "id": "96bd1afd-0c33-4751-b34f-98cef7cde105",
   "metadata": {},
   "source": [
    "Q7. Write a code to print only the current month and year at the time of answering this question."
   ]
  },
  {
   "cell_type": "code",
   "execution_count": 14,
   "id": "93222a67-3f74-461a-a114-6f9a338b66a9",
   "metadata": {},
   "outputs": [],
   "source": [
    "import datetime\n",
    "\n",
    "now = datetime.datetime.now()\n",
    "\n"
   ]
  },
  {
   "cell_type": "code",
   "execution_count": 15,
   "id": "c312190b-5809-4cec-a2f1-3438d147c4aa",
   "metadata": {},
   "outputs": [
    {
     "name": "stdout",
     "output_type": "stream",
     "text": [
      "Current month: April\n"
     ]
    }
   ],
   "source": [
    "print(\"Current month:\", now.strftime(\"%B\"))"
   ]
  },
  {
   "cell_type": "code",
   "execution_count": 16,
   "id": "03d0daea-06b5-4687-a46f-a4280936b440",
   "metadata": {},
   "outputs": [
    {
     "name": "stdout",
     "output_type": "stream",
     "text": [
      "Current year: 2023\n"
     ]
    }
   ],
   "source": [
    "print(\"Current year:\", now.year)"
   ]
  },
  {
   "cell_type": "code",
   "execution_count": null,
   "id": "c42a125a-9140-40b9-8314-41760fa50184",
   "metadata": {},
   "outputs": [],
   "source": []
  },
  {
   "cell_type": "code",
   "execution_count": null,
   "id": "dec2749f-a0ac-4dc6-a396-79b2b5b7915c",
   "metadata": {},
   "outputs": [],
   "source": []
  },
  {
   "cell_type": "code",
   "execution_count": null,
   "id": "420836d9-fde5-49d9-b930-05245b789a6a",
   "metadata": {},
   "outputs": [],
   "source": []
  },
  {
   "cell_type": "markdown",
   "id": "7196784c-b256-4bb6-a751-55bb5525be9a",
   "metadata": {},
   "source": [
    "Q8. Write a Python program that takes in two dates as input (in the format YYYY-MM-DD) and\n",
    "calculates the difference between them in days, hours, and minutes using Pandas time delta. The\n",
    "program should prompt the user to enter the dates and display the result."
   ]
  },
  {
   "cell_type": "code",
   "execution_count": 17,
   "id": "c2d672e6-d668-43ca-9851-64c8ae7cf3de",
   "metadata": {},
   "outputs": [
    {
     "name": "stdin",
     "output_type": "stream",
     "text": [
      "Enter the starting date in the format YYYY-MM-DD HH:MM:SS :- 2023-01-9 2:44:23\n",
      "Enter the ending date in the format YYYY-MM-DD HH:MM:SS :-  2023-07-3 21:4:33\n"
     ]
    },
    {
     "name": "stdout",
     "output_type": "stream",
     "text": [
      "the difference between 2023-01-09 02:44:23 and 2023-07-03 21:04:33 is -176 days -4219.0 hours 39.0minutes\n"
     ]
    }
   ],
   "source": [
    "starting_date=input('Enter the starting date in the format YYYY-MM-DD HH:MM:SS :-')\n",
    "ending_date=input('Enter the ending date in the format YYYY-MM-DD HH:MM:SS :-')\n",
    "\n",
    "start=pd.to_datetime(starting_date)\n",
    "end=pd.to_datetime(ending_date)\n",
    "\n",
    "difference=start-end\n",
    "\n",
    "days=difference.days\n",
    "seconds=difference.total_seconds()\n",
    "hours=seconds // 3600\n",
    "minutes=(seconds // 60)%60\n",
    "\n",
    "print(f'the difference between {start} and {end} is {days} days {hours} hours {minutes}minutes')"
   ]
  },
  {
   "cell_type": "code",
   "execution_count": null,
   "id": "ef8191bc-80e9-49f2-b8f9-5a1b3eabc3d8",
   "metadata": {},
   "outputs": [],
   "source": []
  },
  {
   "cell_type": "code",
   "execution_count": null,
   "id": "f1803395-a080-472d-b097-96beff1a4870",
   "metadata": {},
   "outputs": [],
   "source": []
  },
  {
   "cell_type": "code",
   "execution_count": null,
   "id": "9eb11bbe-ba23-4912-bf97-d4929bd1c6c1",
   "metadata": {},
   "outputs": [],
   "source": []
  },
  {
   "cell_type": "markdown",
   "id": "c46aed2c-9715-40ec-b197-002d081f94db",
   "metadata": {},
   "source": [
    "Q9. Write a Python program that reads a CSV file containing categorical data and converts a specified\n",
    "column to a categorical data type. The program should prompt the user to enter the file path, column\n",
    "name, and category order, and then display the sorted data."
   ]
  },
  {
   "cell_type": "code",
   "execution_count": 18,
   "id": "52a3bb08-196d-4515-bf9f-80307da2b42e",
   "metadata": {},
   "outputs": [
    {
     "name": "stdin",
     "output_type": "stream",
     "text": [
      "Enter file path:  taxonomy.csv\n",
      "Enter column name:  name\n",
      "Enter category order (comma-separated):  a,b,c\n"
     ]
    },
    {
     "name": "stdout",
     "output_type": "stream",
     "text": [
      "    taxonomy_id name parent_id           parent_name\n",
      "0           101  NaN       NaN                   NaN\n",
      "1        101-01  NaN       101             Emergency\n",
      "2        101-02  NaN       101             Emergency\n",
      "3     101-02-01  NaN    101-02        Emergency Cash\n",
      "4     101-02-02  NaN    101-02        Emergency Cash\n",
      "..          ...  ...       ...                   ...\n",
      "285   111-01-07  NaN    111-01  Advocacy & Legal Aid\n",
      "286      111-02  NaN       111                 Legal\n",
      "287      111-03  NaN       111                 Legal\n",
      "288      111-04  NaN       111                 Legal\n",
      "289      111-05  NaN       111                 Legal\n",
      "\n",
      "[290 rows x 4 columns]\n"
     ]
    }
   ],
   "source": [
    "file_path = input(\"Enter file path: \")\n",
    "\n",
    "df = pd.read_csv(file_path)\n",
    "column_name = input(\"Enter column name: \")\n",
    "\n",
    "category_order = input(\"Enter category order (comma-separated): \").split(\",\")\n",
    "df[column_name] = pd.Categorical(df[column_name], categories=category_order, ordered=True)\n",
    "\n",
    "df_sorted = df.sort_values(by=column_name)\n",
    "print(df_sorted)"
   ]
  },
  {
   "cell_type": "code",
   "execution_count": null,
   "id": "eb935006-33d2-4117-9312-ed1cf4d57dc9",
   "metadata": {},
   "outputs": [],
   "source": []
  },
  {
   "cell_type": "code",
   "execution_count": null,
   "id": "f556a0e2-51bf-4988-b575-e23650ae3a46",
   "metadata": {},
   "outputs": [],
   "source": []
  },
  {
   "cell_type": "code",
   "execution_count": null,
   "id": "78e8a3ba-186e-473e-bf3c-b0a7fa87a39b",
   "metadata": {},
   "outputs": [],
   "source": []
  },
  {
   "cell_type": "markdown",
   "id": "7f9d463c-5324-4166-bd79-4e4a6273b8fd",
   "metadata": {},
   "source": [
    "Q10. Write a Python program that reads a CSV file containing sales data for different products and\n",
    "visualizes the data using a stacked bar chart to show the sales of each product category over time. The\n",
    "program should prompt the user to enter the file path and display the chart."
   ]
  },
  {
   "cell_type": "code",
   "execution_count": 23,
   "id": "24708e29-ef28-4591-8684-2a3ecb1c0ff1",
   "metadata": {},
   "outputs": [],
   "source": [
    "import matplotlib.pyplot as plt"
   ]
  },
  {
   "cell_type": "code",
   "execution_count": 33,
   "id": "7322d326-4dea-48e9-bfa1-33c122a6ab1c",
   "metadata": {},
   "outputs": [],
   "source": [
    "file=pd.DataFrame({'Product':['Mobile','Laptop','ipad','Earphones','Charger'],\n",
    "                   'Sales':[654656,547677,5356672,765455,132453],\n",
    "                   'Date':['2023-01-01','2023-01-01','2023-01-01','2023-01-01','2023-01-01']})\n",
    "\n",
    "file.to_csv('sales.csv')"
   ]
  },
  {
   "cell_type": "code",
   "execution_count": 43,
   "id": "607b531e-b9c2-49cb-bee0-f76f4e4fa4b2",
   "metadata": {},
   "outputs": [
    {
     "name": "stdin",
     "output_type": "stream",
     "text": [
      "Enter the file name :  sales.csv\n"
     ]
    },
    {
     "data": {
      "image/png": "[encoded data removed]",
      "text/plain": [
       "<Figure size 1100x500 with 1 Axes>"
      ]
     },
     "metadata": {},
     "output_type": "display_data"
    }
   ],
   "source": [
    "file_name=input('Enter the file name : ')\n",
    "\n",
    "df=pd.read_csv(file_name)\n",
    "\n",
    "a = df.pivot(index='Date',columns='Product',values='Sales')\n",
    "\n",
    "z = a.plot(kind='bar',stacked=True,figsize=(11,5))\n",
    "\n",
    "plt.xlabel('I am Date')\n",
    "plt.ylabel('I am Sales')\n",
    "plt.title('I Visualizes the Data Using a Stacked Bar')\n",
    "\n",
    "plt.show()"
   ]
  },
  {
   "cell_type": "code",
   "execution_count": null,
   "id": "9973e6db-be68-48ee-b58a-d0b7e5f176c5",
   "metadata": {},
   "outputs": [],
   "source": []
  },
  {
   "cell_type": "code",
   "execution_count": null,
   "id": "64e05772-3c77-45e7-a6f3-be9d5cef3ed7",
   "metadata": {},
   "outputs": [],
   "source": []
  },
  {
   "cell_type": "code",
   "execution_count": null,
   "id": "1903a6c2-3b79-4bf8-8e10-247bf244fe04",
   "metadata": {},
   "outputs": [],
   "source": []
  },
  {
   "cell_type": "markdown",
   "id": "06597b32-6ec7-423e-bfc6-31bd1bff6230",
   "metadata": {},
   "source": [
    "Q11. You are given a CSV file containing student data that includes the student ID and their test score. Write\n",
    "a Python program that reads the CSV file, calculates the mean, median, and mode of the test scores, and\n",
    "displays the results in a table."
   ]
  },
  {
   "cell_type": "code",
   "execution_count": 37,
   "id": "ffd42579-1ba5-40ae-a5a1-8bc35ccf05c8",
   "metadata": {},
   "outputs": [
    {
     "data": {
      "text/html": [
       "<div>\n",
       "<style scoped>\n",
       "    .dataframe tbody tr th:only-of-type {\n",
       "        vertical-align: middle;\n",
       "    }\n",
       "\n",
       "    .dataframe tbody tr th {\n",
       "        vertical-align: top;\n",
       "    }\n",
       "\n",
       "    .dataframe thead th {\n",
       "        text-align: right;\n",
       "    }\n",
       "</style>\n",
       "<table border=\"1\" class=\"dataframe\">\n",
       "  <thead>\n",
       "    <tr style=\"text-align: right;\">\n",
       "      <th></th>\n",
       "      <th>Mean</th>\n",
       "      <th>Median</th>\n",
       "      <th>Mode</th>\n",
       "    </tr>\n",
       "  </thead>\n",
       "  <tbody>\n",
       "    <tr>\n",
       "      <th>0</th>\n",
       "      <td>82.6</td>\n",
       "      <td>80.0</td>\n",
       "      <td>80</td>\n",
       "    </tr>\n",
       "  </tbody>\n",
       "</table>\n",
       "</div>"
      ],
      "text/plain": [
       "   Mean  Median  Mode\n",
       "0  82.6    80.0    80"
      ]
     },
     "execution_count": 37,
     "metadata": {},
     "output_type": "execute_result"
    }
   ],
   "source": [
    "data = pd.DataFrame({'student_id': [101, 102, 103, 104, 105],\n",
    "                     'test_score': [83, 91, 80, 79, 80]})\n",
    "\n",
    "data.to_csv('xyz.csv',index=False)\n",
    "\n",
    "mean_of_it = data['test_score'].mean()\n",
    "median_of_it = data['test_score'].median()\n",
    "mode_of_it = data['test_score'].mode()[0]\n",
    "\n",
    "table = pd.DataFrame({'Mean':[mean_of_it],\n",
    "                      'Median':[median_of_it],\n",
    "                      'Mode':[mode_of_it]})\n",
    "table"
   ]
  },
  {
   "cell_type": "code",
   "execution_count": null,
   "id": "730a4cd4-c550-42da-aa2d-caea5c6e0751",
   "metadata": {},
   "outputs": [],
   "source": []
  }
 ],
 "metadata": {
  "kernelspec": {
   "display_name": "Python 3 (ipykernel)",
   "language": "python",
   "name": "python3"
  },
  "language_info": {
   "codemirror_mode": {
    "name": "ipython",
    "version": 3
   },
   "file_extension": ".py",
   "mimetype": "text/x-python",
   "name": "python",
   "nbconvert_exporter": "python",
   "pygments_lexer": "ipython3",
   "version": "3.10.8"
  }
 },
 "nbformat": 4,
 "nbformat_minor": 5
}
